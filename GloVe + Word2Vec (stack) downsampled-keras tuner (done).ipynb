{
 "cells": [
  {
   "cell_type": "markdown",
   "id": "ae9bed96-7569-485b-ad38-13d019e1cc01",
   "metadata": {},
   "source": [
    "# Get unique tokens and assign index"
   ]
  },
  {
   "cell_type": "code",
   "execution_count": 1,
   "id": "1c571e52-1a28-4d73-97cf-180c45e47313",
   "metadata": {},
   "outputs": [],
   "source": [
    "#import library\n",
    "import pandas as pd\n",
    "import string\n",
    "import matplotlib.pyplot as plt\n",
    "import re\n",
    "import numpy as np\n",
    "\n",
    "df = pd.read_csv(r\"D:\\FYP\\cyberbullying_preprocessed.csv\")"
   ]
  },
  {
   "cell_type": "code",
   "execution_count": 2,
   "id": "40d3806c-4fcf-4807-b6b8-7eb0baef4eab",
   "metadata": {},
   "outputs": [
    {
     "data": {
      "text/html": [
       "<div>\n",
       "<style scoped>\n",
       "    .dataframe tbody tr th:only-of-type {\n",
       "        vertical-align: middle;\n",
       "    }\n",
       "\n",
       "    .dataframe tbody tr th {\n",
       "        vertical-align: top;\n",
       "    }\n",
       "\n",
       "    .dataframe thead th {\n",
       "        text-align: right;\n",
       "    }\n",
       "</style>\n",
       "<table border=\"1\" class=\"dataframe\">\n",
       "  <thead>\n",
       "    <tr style=\"text-align: right;\">\n",
       "      <th></th>\n",
       "      <th>tweet_text</th>\n",
       "      <th>cyberbullying_type</th>\n",
       "      <th>hate_speech</th>\n",
       "      <th>clean_text</th>\n",
       "      <th>text_length</th>\n",
       "    </tr>\n",
       "  </thead>\n",
       "  <tbody>\n",
       "    <tr>\n",
       "      <th>0</th>\n",
       "      <td>In other words #katandandre, your food was cra...</td>\n",
       "      <td>not_cyberbullying</td>\n",
       "      <td>0</td>\n",
       "      <td>words #katandandre, food crapilicious! #mkr</td>\n",
       "      <td>5</td>\n",
       "    </tr>\n",
       "    <tr>\n",
       "      <th>1</th>\n",
       "      <td>Why is #aussietv so white? #MKR #theblock #ImA...</td>\n",
       "      <td>not_cyberbullying</td>\n",
       "      <td>0</td>\n",
       "      <td>#aussietv white? #mkr #theblock #imacelebritya...</td>\n",
       "      <td>11</td>\n",
       "    </tr>\n",
       "    <tr>\n",
       "      <th>2</th>\n",
       "      <td>@XochitlSuckkks a classy whore? Or more red ve...</td>\n",
       "      <td>not_cyberbullying</td>\n",
       "      <td>0</td>\n",
       "      <td>classy whore? red velvet cupcakes?</td>\n",
       "      <td>5</td>\n",
       "    </tr>\n",
       "    <tr>\n",
       "      <th>3</th>\n",
       "      <td>@Jason_Gio meh. :P  thanks for the heads up, b...</td>\n",
       "      <td>not_cyberbullying</td>\n",
       "      <td>0</td>\n",
       "      <td>meh. p thanks heads up, concerned another angr...</td>\n",
       "      <td>10</td>\n",
       "    </tr>\n",
       "    <tr>\n",
       "      <th>4</th>\n",
       "      <td>@RudhoeEnglish This is an ISIS account pretend...</td>\n",
       "      <td>not_cyberbullying</td>\n",
       "      <td>0</td>\n",
       "      <td>isis account pretending kurdish account. like ...</td>\n",
       "      <td>8</td>\n",
       "    </tr>\n",
       "  </tbody>\n",
       "</table>\n",
       "</div>"
      ],
      "text/plain": [
       "                                          tweet_text cyberbullying_type  \\\n",
       "0  In other words #katandandre, your food was cra...  not_cyberbullying   \n",
       "1  Why is #aussietv so white? #MKR #theblock #ImA...  not_cyberbullying   \n",
       "2  @XochitlSuckkks a classy whore? Or more red ve...  not_cyberbullying   \n",
       "3  @Jason_Gio meh. :P  thanks for the heads up, b...  not_cyberbullying   \n",
       "4  @RudhoeEnglish This is an ISIS account pretend...  not_cyberbullying   \n",
       "\n",
       "   hate_speech                                         clean_text  text_length  \n",
       "0            0        words #katandandre, food crapilicious! #mkr            5  \n",
       "1            0  #aussietv white? #mkr #theblock #imacelebritya...           11  \n",
       "2            0                 classy whore? red velvet cupcakes?            5  \n",
       "3            0  meh. p thanks heads up, concerned another angr...           10  \n",
       "4            0  isis account pretending kurdish account. like ...            8  "
      ]
     },
     "execution_count": 2,
     "metadata": {},
     "output_type": "execute_result"
    }
   ],
   "source": [
    "df[\"text_length\"] = df[\"clean_text\"].apply(lambda x: len(x.split()))\n",
    "df.head()"
   ]
  },
  {
   "cell_type": "code",
   "execution_count": 3,
   "id": "22ae517c-0854-4624-92f0-2bd4b6dd94ff",
   "metadata": {},
   "outputs": [
    {
     "name": "stdout",
     "output_type": "stream",
     "text": [
      "1\n",
      "415\n"
     ]
    }
   ],
   "source": [
    "# get min length of text\n",
    "min_length = df['text_length'].min()\n",
    "print(min_length)\n",
    "\n",
    "# get max length of text\n",
    "max_length = df['text_length'].max()\n",
    "print(max_length)"
   ]
  },
  {
   "cell_type": "code",
   "execution_count": 4,
   "id": "afc3146a-f60e-4ca2-a279-4a5ec17f9a95",
   "metadata": {},
   "outputs": [
    {
     "data": {
      "image/png": "[encoded data removed]",
      "text/plain": [
       "<Figure size 1000x600 with 1 Axes>"
      ]
     },
     "metadata": {},
     "output_type": "display_data"
    }
   ],
   "source": [
    "# visualize the size of text for each classes\n",
    "import seaborn as sns\n",
    "\n",
    "# Create a boxplot\n",
    "plt.figure(figsize=(10, 6))\n",
    "sns.boxplot(x='hate_speech', y='text_length', data=df)\n",
    "plt.title('Text Size Distribution for Each Class')\n",
    "plt.xlabel('Class')\n",
    "plt.ylabel('Text Length')\n",
    "plt.show()"
   ]
  },
  {
   "cell_type": "code",
   "execution_count": 5,
   "id": "0472add5-0491-41df-9bd6-7a02167cd0f6",
   "metadata": {},
   "outputs": [
    {
     "data": {
      "image/png": "[encoded data removed]",
      "text/plain": [
       "<Figure size 1200x600 with 1 Axes>"
      ]
     },
     "metadata": {},
     "output_type": "display_data"
    },
    {
     "name": "stdout",
     "output_type": "stream",
     "text": [
      "Total number of text that label as non hate = 7847\n",
      "Total number of text that label as hate = 39538\n",
      "Total unique value in column 'hate_speech': \n",
      "hate_speech\n",
      "1    39538\n",
      "0     7847\n",
      "Name: count, dtype: int64\n"
     ]
    }
   ],
   "source": [
    "# visualize dataset\n",
    "df100 = df[df['text_length'] <= 100].copy()\n",
    "\n",
    "plt.figure(figsize=(12, 6))\n",
    "count = df100['hate_speech'].value_counts()\n",
    "count.plot(kind='bar',color=['blue', 'red'])\n",
    "plt.title('Distribution of Hate Speech Classes in Twitter Dataset')\n",
    "plt.xlabel('Present of Hate Speech')\n",
    "plt.ylabel('Count')\n",
    "plt.xticks(rotation=0)\n",
    "plt.show()\n",
    "\n",
    "# check and display the total number of occurrences of '0' in 'target'\n",
    "count_nonhate = df100['hate_speech'].value_counts().get(0, 0)\n",
    "print(f'Total number of text that label as non hate = {count_nonhate}')\n",
    "\n",
    "count_hate = df100['hate_speech'].value_counts().get(1, 0)\n",
    "print(f'Total number of text that label as hate = {count_hate}')\n",
    "\n",
    "print('Total unique value in column \\'hate_speech\\': ')\n",
    "print(df100['hate_speech'].value_counts())"
   ]
  },
  {
   "cell_type": "code",
   "execution_count": null,
   "id": "6d83ea97-605e-47ec-98c6-81f8ffad1cc7",
   "metadata": {},
   "outputs": [],
   "source": [
    "# initialized BertTokenizer to load pretrained subword tokenizer and define function to perform subword tokenization\n",
    "import tokenizers\n",
    "from transformers import AutoTokenizer, BertTokenizer\n",
    "\n",
    "tokenizer = BertTokenizer.from_pretrained('bert-base-uncased')\n",
    "\n",
    "def subword_tokenizer(text):\n",
    "    tokenized_list = tokenizer.tokenize(text)\n",
    "    return tokenized_list\n",
    "\n",
    "\n",
    "print(df100.head())\n",
    "df100['tokenized_text'] = df100['clean_text'].apply(subword_tokenizer)\n",
    "print(df100.head())\n",
    "\n",
    "# Create a list of all tokens in the DataFrame\n",
    "all_tokens = [token for sublist in df100['tokenized_text'] for token in sublist]\n",
    "\n",
    "# Create a set of unique tokens\n",
    "unique_tokens = set(all_tokens)\n",
    "\n",
    "# Create a vocabulary dictionary with numerical indices\n",
    "vocab_dict = {token: idx+1 for idx, token in enumerate(unique_tokens)}\n",
    "\n",
    "# Map the tokenized_text to numerical indices using the vocabulary\n",
    "df100['numerical_tokens'] = df100['tokenized_text'].apply(lambda tokens: [vocab_dict[token] for token in tokens])\n",
    "\n",
    "print(df100.head())\n",
    "print(df100.info())"
   ]
  },
  {
   "cell_type": "code",
   "execution_count": null,
   "id": "9f6eed22-1831-4b63-8246-231093586a27",
   "metadata": {},
   "outputs": [],
   "source": [
    "print(vocab_dict)"
   ]
  },
  {
   "cell_type": "markdown",
   "id": "dc73c9cb-95cc-4da4-bdea-8ab13360adb6",
   "metadata": {
    "jp-MarkdownHeadingCollapsed": true
   },
   "source": [
    "# Create word embedding vectors for each unique word"
   ]
  },
  {
   "cell_type": "code",
   "execution_count": null,
   "id": "b34fbdca-a568-46ae-9b8b-5cfbd2fd010d",
   "metadata": {},
   "outputs": [],
   "source": [
    "# load GloVe model and save in word2vec format\n",
    "import gensim.downloader as api\n",
    "from gensim.models import KeyedVectors\n",
    "\n",
    "glove_path = \"D:\\Desktop\\glove.42B.300d.bin\"\n",
    "word2vec_path = \"D:\\Desktop\\word2vec-google-news-300.bin\""
   ]
  },
  {
   "cell_type": "code",
   "execution_count": null,
   "id": "76cfe97f-d146-4670-9289-3f6b1cd6a46a",
   "metadata": {},
   "outputs": [],
   "source": [
    "glove_model = KeyedVectors.load_word2vec_format(glove_path, binary=True)\n",
    "word2vec_model = KeyedVectors.load_word2vec_format(word2vec_path, binary=True)"
   ]
  },
  {
   "cell_type": "code",
   "execution_count": null,
   "id": "7e4d4080-3296-4f88-824c-51c00d69f41e",
   "metadata": {},
   "outputs": [],
   "source": [
    "# define embedding size\n",
    "embedding_size = 300\n",
    "vocab_size=len(vocab_dict)+1\n",
    "print(vocab_size)\n",
    "\n",
    "embedding_matrix_w2v = np.zeros((vocab_size, embedding_size))\n",
    "embedding_matrix_glove = np.zeros((vocab_size, embedding_size))\n",
    "\n",
    "# modify embedding matrix is tokens exist in the glove embedding technique\n",
    "for word, i in vocab_dict.items():\n",
    "    try:\n",
    "        # Try to get the vector from GloVe and assign it to the corresponding matrix\n",
    "        embedding_matrix_glove[i] = glove_model[word]\n",
    "    except KeyError:\n",
    "        # If a word is not found in GloVe, set the vector to zeros\n",
    "        embedding_matrix_glove[i] = np.zeros(embedding_size)\n",
    "        \n",
    "    try:\n",
    "        # Try to get the vector from Word2Vec and assign it to the corresponding matrix\n",
    "        embedding_matrix_w2v[i] = word2vec_model[word]\n",
    "    except KeyError:\n",
    "        # If a word is not found in Word2Vec, set the vector to zeros\n",
    "        embedding_matrix_w2v[i] = np.zeros(embedding_size)\n",
    "\n",
    "print(embedding_matrix_glove[1])\n",
    "print('\\n')\n",
    "print(embedding_matrix_w2v[1])\n",
    "print('\\n')\n",
    "embedding_matrix = np.concatenate((embedding_matrix_glove, embedding_matrix_w2v), axis=1)\n",
    "print(embedding_matrix[1])\n",
    "print(embedding_matrix.shape[1])"
   ]
  },
  {
   "cell_type": "code",
   "execution_count": null,
   "id": "e2437734-0995-49d5-b3d9-71ff1eb96747",
   "metadata": {},
   "outputs": [],
   "source": [
    "df100[\"text_length\"] = df100[\"tokenized_text\"].apply(lambda x: len(x))\n",
    "\n",
    "# Drop rows where 'text_length' is 0\n",
    "df100 = df100[df100['text_length'] != 0]\n",
    "\n",
    "# Resetting the index after dropping rows\n",
    "df100 = df100.reset_index(drop=True)\n",
    "\n",
    "# Now df contains only the rows where 'text_length' is not 0\n",
    "print(df100.head())\n",
    "\n",
    "# get max length of text\n",
    "min_length = df100['text_length'].min()\n",
    "print(min_length)\n",
    "\n",
    "# get max length of text\n",
    "max_length = df100['text_length'].max()\n",
    "print(max_length)"
   ]
  },
  {
   "cell_type": "markdown",
   "id": "46284520-3fa7-43ef-bed6-db51f3f4aefa",
   "metadata": {},
   "source": [
    "# Training Preparation"
   ]
  },
  {
   "cell_type": "code",
   "execution_count": null,
   "id": "1d2141cc-fc2b-4249-acab-3ef885ccb3fd",
   "metadata": {},
   "outputs": [],
   "source": [
    "from imblearn.over_sampling import RandomOverSampler\n",
    "from imblearn.under_sampling import RandomUnderSampler\n",
    "from sklearn.model_selection import train_test_split\n",
    "from tensorflow.keras.preprocessing.sequence import pad_sequences\n",
    "\n",
    "\n",
    "X = df100['numerical_tokens']\n",
    "y = df100['hate_speech']\n",
    "\n",
    "# split X and y into train test validation set\n",
    "X_train, X_test, y_train, y_test = train_test_split(X, y, test_size=0.2, random_state=66)\n",
    "X_test, X_val, y_test, y_val = train_test_split(X_test, y_test, test_size=0.5, random_state=77)\n",
    "\n",
    "# instantiate the RandomOverSampler\n",
    "undersampler = RandomUnderSampler(random_state=66)\n",
    "X_train_resampled, y_train_resampled = undersampler.fit_resample(X_train.values.reshape(-1,1), y_train)\n",
    "X_train = pd.Series(X_train_resampled.flatten())\n",
    "y_train = pd.Series(y_train_resampled)\n",
    "\n",
    "# pad the text to have same length\n",
    "X_train = pad_sequences(X_train,maxlen=max_length, padding='post')\n",
    "X_val = pad_sequences(X_val,maxlen=max_length, padding='post')\n",
    "X_test = pad_sequences(X_test,maxlen=max_length, padding='post')\n",
    "print(X_train[0])\n",
    "\n",
    "# convert target to array\n",
    "y_train = np.asarray(y_train).astype('float32')\n",
    "y_val = np.asarray(y_val).astype('float32')\n",
    "y_test = np.asarray(y_test).astype('float32')\n",
    "\n",
    "# printing shape\n",
    "print('Shape of X train:', X_train.shape)\n",
    "print('Shape of y train:', y_train.shape)\n",
    "\n",
    "# printing shape\n",
    "print('Shape of X val:', X_val.shape)\n",
    "print('Shape of y val:', y_val.shape)\n",
    "\n",
    "# printing shape\n",
    "print('Shape of X test:', X_test.shape)\n",
    "print('Shape of y test:', y_test.shape)"
   ]
  },
  {
   "cell_type": "code",
   "execution_count": null,
   "id": "ed9db035-5c25-4613-b629-3e3436383407",
   "metadata": {},
   "outputs": [],
   "source": [
    "# Create a DataFrame to display the class distribution\n",
    "new_df = pd.DataFrame({'hate_speech': y_train})\n",
    "class_counts = new_df['hate_speech'].value_counts()\n",
    "\n",
    "# Plot a bar graph\n",
    "plt.figure(figsize=(12, 6))\n",
    "class_counts.plot(kind='bar', color='blue')\n",
    "plt.title('Class Distribution After Downsampling')\n",
    "plt.xlabel('Class')\n",
    "plt.ylabel('Count')\n",
    "plt.xticks(rotation=0)\n",
    "plt.show()\n",
    "\n",
    "count_nonhate = new_df['hate_speech'].value_counts().get(0, 0)\n",
    "print(f'Total number of text that label as non hate = {count_nonhate}')\n",
    "\n",
    "count_hate = new_df['hate_speech'].value_counts().get(1, 0)\n",
    "print(f'Total number of text that label as hate = {count_hate}')\n",
    "\n",
    "print('Total unique value in column \\'hate_speech\\': ')\n",
    "print(new_df['hate_speech'].value_counts())"
   ]
  },
  {
   "cell_type": "markdown",
   "id": "ce878144-a3da-4ed3-ad37-aa8c9b924155",
   "metadata": {},
   "source": [
    "# Deep Learning model without hypertuning"
   ]
  },
  {
   "cell_type": "code",
   "execution_count": 14,
   "id": "cd7a2f58-3db3-4d46-805d-f3398954428b",
   "metadata": {},
   "outputs": [],
   "source": [
    "# import libraries\n",
    "from tensorflow.keras.models import Model\n",
    "from tensorflow.keras.layers import Embedding, Input, Conv1D, MaxPooling1D, Dense, Flatten, Dropout\n",
    "from tensorflow.keras.optimizers import Adam\n",
    "from tensorflow.keras.callbacks import EarlyStopping, Callback\n",
    "from tensorflow.keras import regularizers\n",
    "from keras.metrics import Precision, Recall, F1Score"
   ]
  },
  {
   "cell_type": "code",
   "execution_count": 15,
   "id": "0c7bc27b-cddf-485f-a941-a98595cc747c",
   "metadata": {},
   "outputs": [],
   "source": [
    "import tensorflow as tf\n",
    "# Define a custom callback to skip the first epoch's results\n",
    "class EpochNumCallback(tf.keras.callbacks.Callback):\n",
    "    def on_epoch_end(self, epoch, logs=None):\n",
    "        logs['epoch_nums'] = epoch+1\n",
    "        # Only process metrics from the second epoch onwards\n",
    "        super().on_epoch_end(epoch, logs)\n",
    "            \n",
    "callback = [EpochNumCallback(), EarlyStopping(monitor='val_f1_score', patience=3, mode='max', restore_best_weights=True, start_from_epoch=5)]\n"
   ]
  },
  {
   "cell_type": "code",
   "execution_count": 16,
   "id": "6f80c25c-5e09-490d-98ae-c8cc9c53cdd3",
   "metadata": {},
   "outputs": [
    {
     "name": "stdout",
     "output_type": "stream",
     "text": [
      "WARNING:tensorflow:From C:\\Users\\MyHP\\AppData\\Local\\Programs\\Python\\Python311\\Lib\\site-packages\\keras\\src\\backend.py:873: The name tf.get_default_graph is deprecated. Please use tf.compat.v1.get_default_graph instead.\n",
      "\n",
      "WARNING:tensorflow:From C:\\Users\\MyHP\\AppData\\Local\\Programs\\Python\\Python311\\Lib\\site-packages\\keras\\src\\backend.py:6642: The name tf.nn.max_pool is deprecated. Please use tf.nn.max_pool2d instead.\n",
      "\n"
     ]
    }
   ],
   "source": [
    "input_size = X_train.shape[1]\n",
    "\n",
    "embedding_layer = Embedding(vocab_size, embedding_size*2, weights=[embedding_matrix], trainable=True)\n",
    "\n",
    "input_layer = Input(shape=(input_size,))\n",
    "embedding = embedding_layer(input_layer)\n",
    "\n",
    "conv = Conv1D(32, 10, activation='relu', kernel_regularizer=regularizers.l2(3), padding='same')(embedding)\n",
    "maxpool = MaxPooling1D(3)(conv)\n",
    "flatten = Flatten()(maxpool)\n",
    "dropout = Dropout(0.3)(flatten)\n",
    "dense = Dense(32)(dropout)\n",
    "output_layer = Dense(units=1, activation='sigmoid')(dense)\n",
    "\n",
    "model = Model(input_layer, output_layer)\n",
    "\n",
    "optimizer = Adam(learning_rate=0.0005)\n",
    "    \n",
    "model.compile(optimizer=optimizer, \n",
    "            loss='binary_crossentropy', \n",
    "            metrics=['accuracy', Precision(thresholds=0.5), Recall(thresholds=0.5), F1Score(threshold=0.5)])"
   ]
  },
  {
   "cell_type": "code",
   "execution_count": 17,
   "id": "1e95229b-eda7-4f25-aac2-553bc4a60da3",
   "metadata": {},
   "outputs": [
    {
     "name": "stdout",
     "output_type": "stream",
     "text": [
      "Epoch 1/30\n",
      "WARNING:tensorflow:From C:\\Users\\MyHP\\AppData\\Local\\Programs\\Python\\Python311\\Lib\\site-packages\\keras\\src\\utils\\tf_utils.py:492: The name tf.ragged.RaggedTensorValue is deprecated. Please use tf.compat.v1.ragged.RaggedTensorValue instead.\n",
      "\n",
      "WARNING:tensorflow:From C:\\Users\\MyHP\\AppData\\Local\\Programs\\Python\\Python311\\Lib\\site-packages\\keras\\src\\engine\\base_layer_utils.py:384: The name tf.executing_eagerly_outside_functions is deprecated. Please use tf.compat.v1.executing_eagerly_outside_functions instead.\n",
      "\n",
      "395/395 [==============================] - 70s 172ms/step - loss: 8.5306 - accuracy: 0.7454 - precision: 0.7991 - recall: 0.6556 - f1_score: 0.7202 - val_loss: 0.5912 - val_accuracy: 0.7590 - val_precision: 0.9849 - val_recall: 0.7232 - val_f1_score: 0.8340 - epoch_nums: 1.0000\n",
      "Epoch 2/30\n",
      "395/395 [==============================] - 66s 168ms/step - loss: 0.5644 - accuracy: 0.8186 - precision: 0.8714 - recall: 0.7475 - f1_score: 0.8047 - val_loss: 0.5314 - val_accuracy: 0.8031 - val_precision: 0.9744 - val_recall: 0.7855 - val_f1_score: 0.8698 - epoch_nums: 2.0000\n",
      "Epoch 3/30\n",
      "395/395 [==============================] - 60s 153ms/step - loss: 0.5411 - accuracy: 0.8381 - precision: 0.8880 - recall: 0.7738 - f1_score: 0.8270 - val_loss: 0.5264 - val_accuracy: 0.8215 - val_precision: 0.9554 - val_recall: 0.8253 - val_f1_score: 0.8856 - epoch_nums: 3.0000\n",
      "Epoch 4/30\n",
      "395/395 [==============================] - 58s 146ms/step - loss: 0.5326 - accuracy: 0.8542 - precision: 0.8981 - recall: 0.7990 - f1_score: 0.8457 - val_loss: 0.6831 - val_accuracy: 0.7888 - val_precision: 0.9850 - val_recall: 0.7593 - val_f1_score: 0.8575 - epoch_nums: 4.0000\n",
      "Epoch 5/30\n",
      "395/395 [==============================] - 55s 140ms/step - loss: 0.5167 - accuracy: 0.8632 - precision: 0.9067 - recall: 0.8098 - f1_score: 0.8555 - val_loss: 0.6791 - val_accuracy: 0.7843 - val_precision: 0.9700 - val_recall: 0.7661 - val_f1_score: 0.8561 - epoch_nums: 5.0000\n",
      "Epoch 6/30\n",
      "395/395 [==============================] - 55s 140ms/step - loss: 0.5104 - accuracy: 0.8708 - precision: 0.9094 - recall: 0.8237 - f1_score: 0.8644 - val_loss: 0.5516 - val_accuracy: 0.8160 - val_precision: 0.9711 - val_recall: 0.8041 - val_f1_score: 0.8798 - epoch_nums: 6.0000\n",
      "Epoch 7/30\n",
      "395/395 [==============================] - 55s 140ms/step - loss: 0.4800 - accuracy: 0.8808 - precision: 0.9159 - recall: 0.8386 - f1_score: 0.8756 - val_loss: 0.6626 - val_accuracy: 0.7917 - val_precision: 0.9773 - val_recall: 0.7691 - val_f1_score: 0.8608 - epoch_nums: 7.0000\n",
      "Epoch 8/30\n",
      "395/395 [==============================] - 56s 141ms/step - loss: 0.4750 - accuracy: 0.8860 - precision: 0.9204 - recall: 0.8450 - f1_score: 0.8811 - val_loss: 0.6152 - val_accuracy: 0.8080 - val_precision: 0.9687 - val_recall: 0.7963 - val_f1_score: 0.8741 - epoch_nums: 8.0000\n",
      "Epoch 9/30\n",
      "395/395 [==============================] - 55s 140ms/step - loss: 0.4670 - accuracy: 0.8982 - precision: 0.9255 - recall: 0.8662 - f1_score: 0.8949 - val_loss: 0.6877 - val_accuracy: 0.8052 - val_precision: 0.9677 - val_recall: 0.7938 - val_f1_score: 0.8722 - epoch_nums: 9.0000\n"
     ]
    }
   ],
   "source": [
    "nhp_history = model.fit(X_train, \n",
    "          y_train, \n",
    "          epochs=30, \n",
    "          batch_size=32, \n",
    "          validation_data=(X_val, y_val), \n",
    "          callbacks=callback)"
   ]
  },
  {
   "cell_type": "code",
   "execution_count": 18,
   "id": "ac556602-0019-4b8d-afe5-07ab06ba6ae0",
   "metadata": {},
   "outputs": [
    {
     "name": "stdout",
     "output_type": "stream",
     "text": [
      "149/149 [==============================] - 1s 7ms/step\n",
      "predicted_accuracy = 0.813212325875897\n",
      "predicted_precision = 0.9695771219957408\n",
      "predicted_recall = 0.8023665659617322\n",
      "predicted_f1_score = 0.8780823804931808\n"
     ]
    },
    {
     "data": {
      "image/png": "[encoded data removed]",
      "text/plain": [
       "<Figure size 640x480 with 1 Axes>"
      ]
     },
     "metadata": {},
     "output_type": "display_data"
    }
   ],
   "source": [
    "from sklearn.metrics import confusion_matrix, accuracy_score, precision_score, recall_score, f1_score\n",
    "\n",
    "# predict using trained model with X_test dataset\n",
    "y_pred = model.predict(X_test)\n",
    "y_pred_binary = (y_pred >= 0.5).astype('float32')\n",
    "\n",
    "\n",
    "# Accuracy\n",
    "accuracy = accuracy_score(y_test, y_pred_binary)\n",
    "print(f'predicted_accuracy = {accuracy}')\n",
    "# Precision\n",
    "precision = precision_score(y_test, y_pred_binary)\n",
    "print(f'predicted_precision = {precision}')\n",
    "# Recall\n",
    "recall = recall_score(y_test, y_pred_binary)\n",
    "print(f'predicted_recall = {recall}')\n",
    "# F1 Score\n",
    "f1 = f1_score(y_test, y_pred_binary)\n",
    "print(f'predicted_f1_score = {f1}')\n",
    "\n",
    "# compute confusion matrix\n",
    "cm = confusion_matrix(y_test, y_pred_binary)\n",
    "\n",
    "# plot the confusion matrix using seaborn heatmap\n",
    "sns.heatmap(cm, annot=True, fmt=\"d\", cmap=\"Greens\", cbar=False)\n",
    "plt.xlabel(\"Predicted Labels\")\n",
    "plt.ylabel(\"True Labels\")\n",
    "plt.title(\"Confusion Matrix\")\n",
    "plt.show()"
   ]
  },
  {
   "cell_type": "markdown",
   "id": "582280fa-698a-4bb5-91a4-aa3c3c0835ed",
   "metadata": {},
   "source": [
    "# Deep learnin model hypertuning"
   ]
  },
  {
   "cell_type": "code",
   "execution_count": 19,
   "id": "09ac6f31-8aa6-4ddc-8bf5-0782a95f9307",
   "metadata": {},
   "outputs": [],
   "source": [
    "from sklearn.utils.class_weight import compute_class_weight\n",
    "\n",
    "input_size = X_train.shape[1]\n",
    "\n",
    "def cnn_model(hp):\n",
    "    conv_filters = hp.Choice(\"conv_filters\", values=[16, 32, 64, 128])\n",
    "    dense_units = hp.Choice(\"dense_units\", values=[16, 32, 64, 128])\n",
    "    learning_rate = hp.Choice(\"learning_rate\", values=[0.0001, 0.0005, 0.001, 0.005])\n",
    "    \n",
    "    embedding_layer = Embedding(vocab_size, embedding_size*2, weights=[embedding_matrix], trainable=True)\n",
    "\n",
    "    input_layer = Input(shape=(input_size,))\n",
    "    embedding = embedding_layer(input_layer)\n",
    "\n",
    "    conv = Conv1D(conv_filters, 10, activation='relu', kernel_regularizer=regularizers.l2(3), padding='same')(embedding)\n",
    "    maxpool = MaxPooling1D(3)(conv)\n",
    "    flatten = Flatten()(maxpool)\n",
    "    dropout = Dropout(0.3)(flatten)\n",
    "    dense = Dense(dense_units)(dropout)\n",
    "    output_layer = Dense(units=1, activation='sigmoid')(dense)\n",
    "\n",
    "    model = Model(input_layer, output_layer)\n",
    "\n",
    "    optimizer = Adam(learning_rate=learning_rate)\n",
    "    \n",
    "    model.compile(optimizer=optimizer, \n",
    "                  loss='binary_crossentropy', \n",
    "                  metrics=['accuracy', Precision(thresholds=0.5), Recall(thresholds=0.5), F1Score(threshold=0.5)])\n",
    "\n",
    "    return model"
   ]
  },
  {
   "cell_type": "code",
   "execution_count": 20,
   "id": "efc5bc80-c2a0-42ce-be12-96bca6073b42",
   "metadata": {},
   "outputs": [
    {
     "name": "stdout",
     "output_type": "stream",
     "text": [
      "Reloading Tuner from CNN Grid Tuning\\Glove+Word2Vec (stack) downsampled grid-tune\\tuner0.json\n"
     ]
    }
   ],
   "source": [
    "# Instantiate the tuner\n",
    "import keras_tuner as kt\n",
    "from keras_tuner import Objective\n",
    "from keras_tuner.tuners import GridSearch\n",
    "\n",
    "tuner = kt.GridSearch(\n",
    "    cnn_model,\n",
    "    objective=Objective('val_f1_score', direction='max'),\n",
    "    directory='CNN Grid Tuning',\n",
    "    project_name='Glove+Word2Vec (stack) downsampled grid-tune'\n",
    ")"
   ]
  },
  {
   "cell_type": "code",
   "execution_count": 21,
   "id": "9d871db3-4fe4-4755-8ae4-9b64f7fb49b5",
   "metadata": {},
   "outputs": [],
   "source": [
    "# Search for the best hyperparameter configuration\n",
    "tuner.search(X_train, y_train, \n",
    "             batch_size=32, \n",
    "             epochs=30, \n",
    "             verbose=2, \n",
    "             validation_data=(X_val, y_val), \n",
    "             callbacks=callback)"
   ]
  },
  {
   "cell_type": "markdown",
   "id": "75ec1a55-352f-4155-a079-a28641a4ee6c",
   "metadata": {},
   "source": [
    "# Retrieve best hyperparameters"
   ]
  },
  {
   "cell_type": "code",
   "execution_count": 22,
   "id": "896b4a75-898f-4798-8a6d-b168989d3ce3",
   "metadata": {},
   "outputs": [
    {
     "name": "stdout",
     "output_type": "stream",
     "text": [
      "Trial ID: 0004\n",
      "Score: 0.8844577670097351\n",
      "Step: 7\n",
      "Trial ID: 0008\n",
      "Score: 0.8840125203132629\n",
      "Step: 7\n",
      "Trial ID: 0009\n",
      "Score: 0.8927474021911621\n",
      "Step: 7\n",
      "Trial ID: 0000\n",
      "Score: 0.8866756558418274\n",
      "Step: 6\n",
      "Trial ID: 0002\n",
      "Score: 0.8915150761604309\n",
      "Step: 8\n",
      "Trial ID: 0007\n",
      "Score: 0.8917315006256104\n",
      "Step: 3\n",
      "Trial ID: 0033\n",
      "Score: 0.885737419128418\n",
      "Step: 5\n",
      "Trial ID: 0001\n",
      "Score: 0.8920978307723999\n",
      "Step: 8\n",
      "Trial ID: 0030\n",
      "Score: 0.9136826395988464\n",
      "Step: 1\n",
      "Trial ID: 0028\n",
      "Score: 0.8866204023361206\n",
      "Step: 11\n",
      "Trial ID: 0020\n",
      "Score: 0.8922122716903687\n",
      "Step: 15\n",
      "Trial ID: 0005\n",
      "Score: 0.8949747681617737\n",
      "Step: 9\n",
      "Trial ID: 0017\n",
      "Score: 0.891120970249176\n",
      "Step: 6\n",
      "Trial ID: 0016\n",
      "Score: 0.9028451442718506\n",
      "Step: 13\n",
      "Trial ID: 0003\n",
      "Score: 0.8847084045410156\n",
      "Step: 8\n",
      "Trial ID: 0010\n",
      "Score: 0.8903999924659729\n",
      "Step: 7\n",
      "Trial ID: 0035\n",
      "Score: 0.8934211134910583\n",
      "Step: 8\n",
      "Trial ID: 0034\n",
      "Score: 0.8850013613700867\n",
      "Step: 6\n",
      "Trial ID: 0015\n",
      "Score: 0.8945712447166443\n",
      "Step: 1\n",
      "Trial ID: 0011\n",
      "Score: 0.8730114698410034\n",
      "Step: 9\n",
      "Trial ID: 0032\n",
      "Score: 0.8849822878837585\n",
      "Step: 9\n",
      "Trial ID: 0040\n",
      "Score: 0.8795926570892334\n",
      "Step: 6\n",
      "Trial ID: 0025\n",
      "Score: 0.9016242027282715\n",
      "Step: 2\n",
      "Trial ID: 0056\n",
      "Score: 0.8941897749900818\n",
      "Step: 12\n",
      "Trial ID: 0018\n",
      "Score: 0.882546603679657\n",
      "Step: 2\n",
      "Trial ID: 0012\n",
      "Score: 0.8922662734985352\n",
      "Step: 7\n",
      "Trial ID: 0006\n",
      "Score: 0.8919711709022522\n",
      "Step: 7\n",
      "Trial ID: 0047\n",
      "Score: 0.8993850350379944\n",
      "Step: 5\n",
      "Trial ID: 0023\n",
      "Score: 0.8915213346481323\n",
      "Step: 7\n",
      "Trial ID: 0029\n",
      "Score: 0.8931368589401245\n",
      "Step: 3\n",
      "Trial ID: 0051\n",
      "Score: 0.8918847441673279\n",
      "Step: 3\n",
      "Trial ID: 0045\n",
      "Score: 0.8913160562515259\n",
      "Step: 1\n",
      "Trial ID: 0037\n",
      "Score: 0.8884714245796204\n",
      "Step: 2\n",
      "Trial ID: 0062\n",
      "Score: 0.8847351670265198\n",
      "Step: 7\n",
      "Trial ID: 0039\n",
      "Score: 0.9105387330055237\n",
      "Step: 6\n",
      "Trial ID: 0014\n",
      "Score: 0.8934063911437988\n",
      "Step: 4\n",
      "Trial ID: 0013\n",
      "Score: 0.8942849636077881\n",
      "Step: 2\n",
      "Trial ID: 0054\n",
      "Score: 0.8949651718139648\n",
      "Step: 9\n",
      "Trial ID: 0022\n",
      "Score: 0.8901796340942383\n",
      "Step: 2\n",
      "Trial ID: 0053\n",
      "Score: 0.8880779147148132\n",
      "Step: 6\n",
      "Trial ID: 0050\n",
      "Score: 0.9000919461250305\n",
      "Step: 5\n",
      "Trial ID: 0044\n",
      "Score: 0.8789845108985901\n",
      "Step: 6\n",
      "Trial ID: 0042\n",
      "Score: 0.9001175165176392\n",
      "Step: 1\n",
      "Trial ID: 0031\n",
      "Score: 0.8788701891899109\n",
      "Step: 8\n",
      "Trial ID: 0057\n",
      "Score: 0.8906165957450867\n",
      "Step: 4\n",
      "Trial ID: 0061\n",
      "Score: 0.8960402607917786\n",
      "Step: 9\n",
      "Trial ID: 0019\n",
      "Score: 0.886810302734375\n",
      "Step: 2\n",
      "Trial ID: 0059\n",
      "Score: 0.8923280239105225\n",
      "Step: 0\n",
      "Trial ID: 0058\n",
      "Score: 0.9196054339408875\n",
      "Step: 0\n",
      "Trial ID: 0026\n",
      "Score: 0.8950641751289368\n",
      "Step: 9\n",
      "Trial ID: 0038\n",
      "Score: 0.8881712555885315\n",
      "Step: 5\n",
      "Trial ID: 0046\n",
      "Score: 0.8897479772567749\n",
      "Step: 9\n",
      "Trial ID: 0021\n",
      "Score: 0.9057043194770813\n",
      "Step: 6\n",
      "Trial ID: 0048\n",
      "Score: 0.8943586945533752\n",
      "Step: 5\n",
      "Trial ID: 0049\n",
      "Score: 0.9112096428871155\n",
      "Step: 2\n",
      "Trial ID: 0063\n",
      "Score: 0.8903311491012573\n",
      "Step: 8\n",
      "Trial ID: 0060\n",
      "Score: 0.8912055492401123\n",
      "Step: 16\n",
      "Trial ID: 0052\n",
      "Score: 0.8784508109092712\n",
      "Step: 6\n",
      "Trial ID: 0024\n",
      "Score: 0.9061932563781738\n",
      "Step: 8\n",
      "Trial ID: 0043\n",
      "Score: 0.8922874331474304\n",
      "Step: 4\n",
      "Trial ID: 0055\n",
      "Score: 0.8962517976760864\n",
      "Step: 8\n",
      "Trial ID: 0027\n",
      "Score: 0.8927667140960693\n",
      "Step: 0\n",
      "Trial ID: 0041\n",
      "Score: 0.890376091003418\n",
      "Step: 5\n",
      "Trial ID: 0036\n",
      "Score: 0.8798567056655884\n",
      "Step: 9\n"
     ]
    }
   ],
   "source": [
    "# Retrieve all trials\n",
    "all_trials = tuner.oracle.trials.values()\n",
    "\n",
    "# Loop through each trial and get the score\n",
    "for trial in all_trials:\n",
    "    trial_id = trial.trial_id\n",
    "    trial_score = trial.score\n",
    "    trial_step = trial.best_step\n",
    "    print(\"Trial ID:\", trial_id)\n",
    "    print(\"Score:\", trial_score)\n",
    "    print(\"Step:\", trial_step)"
   ]
  },
  {
   "cell_type": "code",
   "execution_count": 23,
   "id": "3373fc98-4b8c-460d-80a3-54274edb25ae",
   "metadata": {},
   "outputs": [
    {
     "name": "stdout",
     "output_type": "stream",
     "text": [
      "Model: \"model_1\"\n",
      "_________________________________________________________________\n",
      " Layer (type)                Output Shape              Param #   \n",
      "=================================================================\n",
      " input_2 (InputLayer)        [(None, 139)]             0         \n",
      "                                                                 \n",
      " embedding_1 (Embedding)     (None, 139, 600)          11700600  \n",
      "                                                                 \n",
      " conv1d_1 (Conv1D)           (None, 139, 64)           384064    \n",
      "                                                                 \n",
      " max_pooling1d_1 (MaxPoolin  (None, 46, 64)            0         \n",
      " g1D)                                                            \n",
      "                                                                 \n",
      " flatten_1 (Flatten)         (None, 2944)              0         \n",
      "                                                                 \n",
      " dropout_1 (Dropout)         (None, 2944)              0         \n",
      "                                                                 \n",
      " dense_2 (Dense)             (None, 32)                94240     \n",
      "                                                                 \n",
      " dense_3 (Dense)             (None, 1)                 33        \n",
      "                                                                 \n",
      "=================================================================\n",
      "Total params: 12178937 (46.46 MB)\n",
      "Trainable params: 12178937 (46.46 MB)\n",
      "Non-trainable params: 0 (0.00 Byte)\n",
      "_________________________________________________________________\n"
     ]
    }
   ],
   "source": [
    "# Retrieve the best hyperparameters\n",
    "best_trial = tuner.oracle.get_trial('0039')\n",
    "best_hyperparameters = best_trial.hyperparameters\n",
    "\n",
    "# Re-instantiate the model with the best hyperparameters\n",
    "best_model = tuner.hypermodel.build(best_hyperparameters)\n",
    "best_model.summary()"
   ]
  },
  {
   "cell_type": "markdown",
   "id": "b296078b-8729-41cf-be55-314432b4de9a",
   "metadata": {},
   "source": [
    "# Train 1D CNNs with best hyperparameters"
   ]
  },
  {
   "cell_type": "code",
   "execution_count": 24,
   "id": "5de36af9-1abc-466c-9656-dcf3c6249f8c",
   "metadata": {},
   "outputs": [
    {
     "name": "stdout",
     "output_type": "stream",
     "text": [
      "Epoch 1/30\n",
      "395/395 [==============================] - 65s 162ms/step - loss: 4.2168 - accuracy: 0.7695 - precision_1: 0.8260 - recall_1: 0.6830 - f1_score: 0.7477 - val_loss: 0.9458 - val_accuracy: 0.8415 - val_precision_1: 0.9067 - val_recall_1: 0.9037 - val_f1_score: 0.9052 - epoch_nums: 1.0000\n",
      "Epoch 2/30\n",
      "395/395 [==============================] - 65s 164ms/step - loss: 0.8952 - accuracy: 0.8339 - precision_1: 0.8889 - recall_1: 0.7632 - f1_score: 0.8213 - val_loss: 1.1965 - val_accuracy: 0.8016 - val_precision_1: 0.9758 - val_recall_1: 0.7825 - val_f1_score: 0.8685 - epoch_nums: 2.0000\n",
      "Epoch 3/30\n",
      "395/395 [==============================] - 67s 171ms/step - loss: 0.8310 - accuracy: 0.8553 - precision_1: 0.9120 - recall_1: 0.7865 - f1_score: 0.8446 - val_loss: 0.8711 - val_accuracy: 0.8073 - val_precision_1: 0.9690 - val_recall_1: 0.7953 - val_f1_score: 0.8736 - epoch_nums: 3.0000\n",
      "Epoch 4/30\n",
      "395/395 [==============================] - 70s 178ms/step - loss: 0.9151 - accuracy: 0.8691 - precision_1: 0.9147 - recall_1: 0.8141 - f1_score: 0.8615 - val_loss: 0.9470 - val_accuracy: 0.8023 - val_precision_1: 0.9717 - val_recall_1: 0.7867 - val_f1_score: 0.8695 - epoch_nums: 4.0000\n",
      "Epoch 5/30\n",
      "395/395 [==============================] - 72s 182ms/step - loss: 0.8486 - accuracy: 0.8766 - precision_1: 0.9195 - recall_1: 0.8255 - f1_score: 0.8700 - val_loss: 1.1074 - val_accuracy: 0.7833 - val_precision_1: 0.9739 - val_recall_1: 0.7615 - val_f1_score: 0.8547 - epoch_nums: 5.0000\n",
      "Epoch 6/30\n",
      "395/395 [==============================] - 71s 181ms/step - loss: 0.8410 - accuracy: 0.8843 - precision_1: 0.9241 - recall_1: 0.8374 - f1_score: 0.8786 - val_loss: 1.1959 - val_accuracy: 0.8371 - val_precision_1: 0.9125 - val_recall_1: 0.8908 - val_f1_score: 0.9015 - epoch_nums: 6.0000\n",
      "Epoch 7/30\n",
      "395/395 [==============================] - 64s 162ms/step - loss: 0.8837 - accuracy: 0.8881 - precision_1: 0.9249 - recall_1: 0.8448 - f1_score: 0.8830 - val_loss: 1.2252 - val_accuracy: 0.7708 - val_precision_1: 0.9759 - val_recall_1: 0.7446 - val_f1_score: 0.8447 - epoch_nums: 7.0000\n",
      "Epoch 8/30\n",
      "395/395 [==============================] - 64s 161ms/step - loss: 0.8537 - accuracy: 0.9026 - precision_1: 0.9345 - recall_1: 0.8659 - f1_score: 0.8989 - val_loss: 1.3674 - val_accuracy: 0.7837 - val_precision_1: 0.9632 - val_recall_1: 0.7711 - val_f1_score: 0.8565 - epoch_nums: 8.0000\n",
      "Epoch 9/30\n",
      "395/395 [==============================] - 64s 161ms/step - loss: 0.8362 - accuracy: 0.9036 - precision_1: 0.9346 - recall_1: 0.8678 - f1_score: 0.9000 - val_loss: 2.0339 - val_accuracy: 0.6478 - val_precision_1: 0.9816 - val_recall_1: 0.5904 - val_f1_score: 0.7373 - epoch_nums: 9.0000\n"
     ]
    }
   ],
   "source": [
    "hp_history = best_model.fit(X_train, \n",
    "                         y_train, \n",
    "                         epochs=30,\n",
    "                         batch_size=32, \n",
    "                         validation_data=(X_val, y_val), \n",
    "                         callbacks=callback)"
   ]
  },
  {
   "cell_type": "code",
   "execution_count": 25,
   "id": "f80c4d3b-ab52-47fa-a563-b3c36a85749a",
   "metadata": {},
   "outputs": [
    {
     "data": {
      "image/png": "[encoded data removed]",
      "text/plain": [
       "<Figure size 800x500 with 1 Axes>"
      ]
     },
     "metadata": {},
     "output_type": "display_data"
    }
   ],
   "source": [
    "#plotting f1\n",
    "plt.figure(figsize=(8, 5))  # Create a new figure for each plot\n",
    "plt.suptitle(f'64, 64, learning rate: 0.0005', fontsize=16)\n",
    "plt.ylabel('F1 Score', fontsize=15)\n",
    "plt.xlabel('Epoch', fontsize=15)\n",
    "plt.plot(hp_history.history['f1_score'], color='b', label='Training F1')\n",
    "plt.plot(hp_history.history['val_f1_score'], color='r', label='Validation F1')\n",
    "plt.legend(loc='lower right')\n",
    "\n",
    "plt.xticks(range(0, len(hp_history.history['f1_score']) + 1, 1))\n",
    "plt.show()"
   ]
  },
  {
   "cell_type": "code",
   "execution_count": 26,
   "id": "82c42903-8f2c-4164-9c45-9416b916388b",
   "metadata": {},
   "outputs": [
    {
     "name": "stdout",
     "output_type": "stream",
     "text": [
      "149/149 [==============================] - 2s 11ms/step\n",
      "predicted_accuracy = 0.8417053609117772\n",
      "predicted_precision = 0.9164943123061013\n",
      "predicted_recall = 0.8924974823766365\n",
      "predicted_f1_score = 0.9043367346938777\n"
     ]
    },
    {
     "data": {
      "image/png": "[encoded data removed]",
      "text/plain": [
       "<Figure size 640x480 with 1 Axes>"
      ]
     },
     "metadata": {},
     "output_type": "display_data"
    }
   ],
   "source": [
    "from sklearn.metrics import confusion_matrix, accuracy_score, precision_score, recall_score, f1_score\n",
    "\n",
    "# predict using trained model with X_test dataset\n",
    "y_pred1 = best_model.predict(X_test)\n",
    "y_pred_binary1 = (y_pred1 >= 0.5).astype('float32')\n",
    "\n",
    "\n",
    "# Accuracy\n",
    "accuracy1 = accuracy_score(y_test, y_pred_binary1)\n",
    "print(f'predicted_accuracy = {accuracy1}')\n",
    "# Precision\n",
    "precision1 = precision_score(y_test, y_pred_binary1)\n",
    "print(f'predicted_precision = {precision1}')\n",
    "# Recall\n",
    "recall1 = recall_score(y_test, y_pred_binary1)\n",
    "print(f'predicted_recall = {recall1}')\n",
    "# F1 Score\n",
    "f11 = f1_score(y_test, y_pred_binary1)\n",
    "print(f'predicted_f1_score = {f11}')\n",
    "\n",
    "# compute confusion matrix\n",
    "cm = confusion_matrix(y_test, y_pred_binary1)\n",
    "\n",
    "# plot the confusion matrix using seaborn heatmap\n",
    "sns.heatmap(cm, annot=True, fmt=\"d\", cmap=\"Greens\", cbar=False)\n",
    "plt.xlabel(\"Predicted Labels\")\n",
    "plt.ylabel(\"True Labels\")\n",
    "plt.title(\"Confusion Matrix\")\n",
    "plt.show()"
   ]
  },
  {
   "cell_type": "code",
   "execution_count": null,
   "id": "bb76fb4e-a557-4273-87c9-3a8da727e7eb",
   "metadata": {},
   "outputs": [],
   "source": [
    "# predict using trained model with X_test dataset\n",
    "y_pred2 = model.predict(X_test)\n",
    "y_pred_binary2 = (y_pred2 > 0.14).astype('float32')\n",
    "\n",
    "\n",
    "# Accuracy\n",
    "accuracy2 = accuracy_score(y_test, y_pred_binary2)\n",
    "print(f'predicted_accuracy = {accuracy2}')\n",
    "# Precision\n",
    "precision2 = precision_score(y_test, y_pred_binary2)\n",
    "print(f'predicted_precision = {precision2}')\n",
    "# Recall\n",
    "recall2 = recall_score(y_test, y_pred_binary2)\n",
    "print(f'predicted_recall = {recall2}')\n",
    "# F1 Score\n",
    "f12 = f1_score(y_test, y_pred_binary2)\n",
    "print(f'predicted_f1_score = {f12}')\n",
    "\n",
    "\n",
    "# compute confusion matrix\n",
    "cm = confusion_matrix(y_test, y_pred_binary2)\n",
    "\n",
    "# plot the confusion matrix using seaborn heatmap\n",
    "sns.heatmap(cm, annot=True, fmt=\"d\", cmap=\"Greens\", cbar=False)\n",
    "plt.xlabel(\"Predicted Labels\")\n",
    "plt.ylabel(\"True Labels\")\n",
    "plt.title(\"Confusion Matrix\")\n",
    "plt.show()"
   ]
  },
  {
   "cell_type": "code",
   "execution_count": null,
   "id": "af2ac19a-5623-4620-bbe3-00ff437831a7",
   "metadata": {},
   "outputs": [],
   "source": []
  }
 ],
 "metadata": {
  "kernelspec": {
   "display_name": "Python 3 (ipykernel)",
   "language": "python",
   "name": "python3"
  },
  "language_info": {
   "codemirror_mode": {
    "name": "ipython",
    "version": 3
   },
   "file_extension": ".py",
   "mimetype": "text/x-python",
   "name": "python",
   "nbconvert_exporter": "python",
   "pygments_lexer": "ipython3",
   "version": "3.11.7"
  }
 },
 "nbformat": 4,
 "nbformat_minor": 5
}
